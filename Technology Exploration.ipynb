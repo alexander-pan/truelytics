{
 "cells": [
  {
   "cell_type": "code",
   "execution_count": 101,
   "metadata": {
    "collapsed": false
   },
   "outputs": [
    {
     "name": "stdout",
     "output_type": "stream",
     "text": [
      "height has been deprecated.\n",
      "\n"
     ]
    }
   ],
   "source": [
    "import numpy as np\n",
    "import matplotlib.pyplot as plt\n",
    "import pandas as pd\n",
    "import seaborn as sns\n",
    "\n",
    "from sklearn import linear_model\n",
    "from sklearn.preprocessing import StandardScaler\n",
    "from sklearn.model_selection import train_test_split, ShuffleSplit, cross_val_score, GridSearchCV\n",
    "from sklearn.metrics import r2_score, mean_squared_error\n",
    "from sklearn.ensemble import RandomForestRegressor\n",
    "from sklearn.pipeline import Pipeline\n",
    "\n",
    "pd.set_option('display.height', 1000)\n",
    "pd.set_option('display.max_rows', 500)\n",
    "pd.set_option('display.max_columns', 500)\n",
    "pd.set_option('display.width', 1000)\n",
    "%matplotlib inline\n",
    "sns.set(style='whitegrid',context='notebook')\n",
    "plt.rcParams['figure.figsize'] = (5, 5)"
   ]
  },
  {
   "cell_type": "code",
   "execution_count": 2,
   "metadata": {
    "collapsed": true
   },
   "outputs": [],
   "source": [
    "far_df = pd.read_csv('./datasets/firmannualreports.csv',index_col=0)\n",
    "ptu_df = pd.read_csv('./datasets/processtechnologyuses.csv',index_col=0)\n",
    "advisor_df = pd.read_csv('./datasets/advisor.csv',index_col=0)\n",
    "client_df = pd.read_csv('./datasets/client.csv',index_col=0)\n",
    "financial_df = pd.read_csv('./datasets/financial.csv',index_col=0)\n",
    "frb_df = pd.read_csv('./datasets/financialrevenuebreakdown.csv',index_col=0)\n",
    "foe_df = pd.read_csv('./datasets/financialoperatingexpenses.csv',index_col=0)\n",
    "fs_df = pd.read_csv('./datasets/firmsection.csv',index_col=0)\n",
    "owner_df = pd.read_csv('./datasets/owner.csv',index_col=0)\n",
    "process_df = pd.read_csv('./datasets/process.csv',index_col=0)\n",
    "rev_df = pd.read_csv('./datasets/revenue.csv',index_col=0)\n",
    "results_df = pd.read_csv('./datasets/firmanalyticsresults.csv',index_col=0)\n",
    "tech_df = pd.read_csv('./datasets/tech_rev_opex_ebitda_eboc.csv',index_col=0)"
   ]
  },
  {
   "cell_type": "code",
   "execution_count": 3,
   "metadata": {
    "collapsed": true
   },
   "outputs": [],
   "source": [
    "df = far_df.merge(fs_df,how='inner',left_on='firmsectionid',right_index=True)\n",
    "df = df.merge(client_df,how='inner',left_on='clientid',right_index=True)\n",
    "df = df.merge(rev_df,how='inner',left_on='revenueid',right_index=True)\n",
    "df = df.merge(process_df.astype('int'),how='inner',left_on='processid',right_index=True)\n",
    "df = df.merge(ptu_df.astype('int'),how='inner',left_on='processtechnologyuseid',right_index=True)\n",
    "df = df.merge(financial_df,how='inner',left_on='financialsid',right_index=True)\n",
    "df = df.merge(advisor_df,how='inner',left_index=True,right_on='firmannualreportid')\n",
    "df = df.merge(owner_df.astype('float'),how='inner',left_index=True,right_on='firmannualreportid')\n",
    "df = df.merge(frb_df,how='inner',left_on='RevenueBreakdownId',right_index=True)\n",
    "df = df.merge(foe_df,how='inner',left_on='OperatingExpensesId',right_index=True)\n",
    "df = df.merge(results_df,how='inner',left_on='firmanalyticsresultid',right_index=True)"
   ]
  },
  {
   "cell_type": "code",
   "execution_count": 91,
   "metadata": {
    "collapsed": false
   },
   "outputs": [],
   "source": [
    "cols = ptu_df.columns.tolist()\n",
    "cols.append('NetRevenue')\n",
    "df1 = df[cols].copy()\n",
    "N = len(cols[:-1])\n",
    "tech_fts = cols[:-1]"
   ]
  },
  {
   "cell_type": "code",
   "execution_count": 92,
   "metadata": {
    "collapsed": false
   },
   "outputs": [],
   "source": [
    "X = df1[cols[:-1]].values.reshape(-1,N)\n",
    "y = df1['NetRevenue'].values.reshape(-1,1)"
   ]
  },
  {
   "cell_type": "code",
   "execution_count": 93,
   "metadata": {
    "collapsed": true
   },
   "outputs": [],
   "source": [
    "#cv = ShuffleSplit(n_splits=20, test_size=0.25, random_state=42)\n",
    "X_train,X_test,y_train,y_test = train_test_split(X,y, test_size=.2, random_state=42)"
   ]
  },
  {
   "cell_type": "code",
   "execution_count": 94,
   "metadata": {
    "collapsed": false
   },
   "outputs": [
    {
     "name": "stderr",
     "output_type": "stream",
     "text": [
      "/Users/alexanderpan/anaconda/lib/python2.7/site-packages/ipykernel/__main__.py:6: DataConversionWarning: A column-vector y was passed when a 1d array was expected. Please change the shape of y to (n_samples,), for example using ravel().\n"
     ]
    },
    {
     "name": "stdout",
     "output_type": "stream",
     "text": [
      "R^2 Train: 0.64517, test: 0.43557\n",
      "MSE Train: 6078626236884.65918, test: 7784294988081.16211\n"
     ]
    },
    {
     "data": {
      "image/png": "[encoded data removed]",
      "text/plain": [
       "<matplotlib.figure.Figure at 0x11238b910>"
      ]
     },
     "metadata": {},
     "output_type": "display_data"
    }
   ],
   "source": [
    "forest = RandomForestRegressor(n_estimators=1000,\n",
    "                               criterion='mse',\n",
    "                               random_state=42,\n",
    "                               n_jobs=-1,\n",
    "                               oob_score=True)\n",
    "forest.fit(X_train,y_train)\n",
    "y_train_pred = forest.predict(X_train)\n",
    "y_test_pred = forest.predict(X_test)\n",
    "print('R^2 Train: %.5f, test: %.5f' % (r2_score(y_train,y_train_pred),r2_score(y_test, y_test_pred)))\n",
    "\n",
    "print('MSE Train: %.5f, test: %.5f' % (mean_squared_error(y_train,y_train_pred),\n",
    "                                       mean_squared_error(y_test, y_test_pred)))\n",
    "plt.scatter(y_train_pred,(y_train_pred.reshape(-1,1)-y_train),c='blue',label='Training_data',marker='o')\n",
    "plt.scatter(y_test_pred,(y_test_pred.reshape(-1,1)-y_test),c='lightgreen',marker='s',label='Test_data')\n",
    "plt.xlabel('Predicted Values')\n",
    "plt.ylabel('Residuals')\n",
    "plt.legend(loc='upper left')\n",
    "plt.hlines(y=0,xmin=-1,xmax=1,color='red',lw=2)\n",
    "plt.xlim([-1,1])\n",
    "plt.show()"
   ]
  },
  {
   "cell_type": "code",
   "execution_count": 95,
   "metadata": {
    "collapsed": false
   },
   "outputs": [
    {
     "data": {
      "text/html": [
       "<div>\n",
       "<table border=\"1\" class=\"dataframe\">\n",
       "  <thead>\n",
       "    <tr style=\"text-align: right;\">\n",
       "      <th></th>\n",
       "      <th>type</th>\n",
       "      <th>feature_importance</th>\n",
       "    </tr>\n",
       "  </thead>\n",
       "  <tbody>\n",
       "    <tr>\n",
       "      <th>7</th>\n",
       "      <td>socialmedia</td>\n",
       "      <td>0.279411</td>\n",
       "    </tr>\n",
       "    <tr>\n",
       "      <th>9</th>\n",
       "      <td>digitalcompliancemonitoring</td>\n",
       "      <td>0.167762</td>\n",
       "    </tr>\n",
       "    <tr>\n",
       "      <th>6</th>\n",
       "      <td>clientportal</td>\n",
       "      <td>0.139726</td>\n",
       "    </tr>\n",
       "    <tr>\n",
       "      <th>12</th>\n",
       "      <td>riskassessmentsoftware</td>\n",
       "      <td>0.082270</td>\n",
       "    </tr>\n",
       "    <tr>\n",
       "      <th>3</th>\n",
       "      <td>portfolioaccounting</td>\n",
       "      <td>0.074770</td>\n",
       "    </tr>\n",
       "    <tr>\n",
       "      <th>8</th>\n",
       "      <td>email</td>\n",
       "      <td>0.061270</td>\n",
       "    </tr>\n",
       "    <tr>\n",
       "      <th>1</th>\n",
       "      <td>accounting</td>\n",
       "      <td>0.058637</td>\n",
       "    </tr>\n",
       "    <tr>\n",
       "      <th>10</th>\n",
       "      <td>digitalfinancialrecords</td>\n",
       "      <td>0.037093</td>\n",
       "    </tr>\n",
       "    <tr>\n",
       "      <th>2</th>\n",
       "      <td>portfoliomanagement</td>\n",
       "      <td>0.035660</td>\n",
       "    </tr>\n",
       "    <tr>\n",
       "      <th>0</th>\n",
       "      <td>crm</td>\n",
       "      <td>0.026830</td>\n",
       "    </tr>\n",
       "    <tr>\n",
       "      <th>4</th>\n",
       "      <td>financialplanning</td>\n",
       "      <td>0.023424</td>\n",
       "    </tr>\n",
       "    <tr>\n",
       "      <th>5</th>\n",
       "      <td>firmwebsite</td>\n",
       "      <td>0.007737</td>\n",
       "    </tr>\n",
       "    <tr>\n",
       "      <th>11</th>\n",
       "      <td>robotechnology</td>\n",
       "      <td>0.005408</td>\n",
       "    </tr>\n",
       "  </tbody>\n",
       "</table>\n",
       "</div>"
      ],
      "text/plain": [
       "                           type  feature_importance\n",
       "7                   socialmedia            0.279411\n",
       "9   digitalcompliancemonitoring            0.167762\n",
       "6                  clientportal            0.139726\n",
       "12       riskassessmentsoftware            0.082270\n",
       "3           portfolioaccounting            0.074770\n",
       "8                         email            0.061270\n",
       "1                    accounting            0.058637\n",
       "10      digitalfinancialrecords            0.037093\n",
       "2           portfoliomanagement            0.035660\n",
       "0                           crm            0.026830\n",
       "4             financialplanning            0.023424\n",
       "5                   firmwebsite            0.007737\n",
       "11               robotechnology            0.005408"
      ]
     },
     "execution_count": 95,
     "metadata": {},
     "output_type": "execute_result"
    }
   ],
   "source": [
    "fts = forest.feature_importances_\n",
    "ft_df = pd.DataFrame([],columns=['type','feature_importance'])\n",
    "ft_df['type'] = cols[:-1]\n",
    "ft_df['feature_importance'] = fts\n",
    "ft_df.sort_values('feature_importance',ascending=False)"
   ]
  },
  {
   "cell_type": "code",
   "execution_count": 96,
   "metadata": {
    "collapsed": false
   },
   "outputs": [
    {
     "data": {
      "text/plain": [
       "crm                             949\n",
       "accounting                      979\n",
       "portfoliomanagement            1004\n",
       "portfolioaccounting             750\n",
       "financialplanning               984\n",
       "firmwebsite                    1033\n",
       "clientportal                    930\n",
       "socialmedia                     654\n",
       "email                           907\n",
       "digitalcompliancemonitoring     778\n",
       "digitalfinancialrecords         932\n",
       "robotechnology                   30\n",
       "riskassessmentsoftware          212\n",
       "dtype: int64"
      ]
     },
     "execution_count": 96,
     "metadata": {},
     "output_type": "execute_result"
    }
   ],
   "source": [
    "df1[cols[:-1]].sum()"
   ]
  },
  {
   "cell_type": "code",
   "execution_count": 97,
   "metadata": {
    "collapsed": false
   },
   "outputs": [],
   "source": [
    "#tech_df.loc[((tech_df[tech_fts]==1).sum(axis=1)==8) & \n",
    "#            ((tech_df['NetRevenue(>75)']==1) | tech_df['NetRevenue(51-75)']==1)].shape\n",
    "temp = tech_df.loc[((tech_df['NetRevenue(>75)']==1) | tech_df['NetRevenue(51-75)']==1)]"
   ]
  },
  {
   "cell_type": "code",
   "execution_count": 98,
   "metadata": {
    "collapsed": false
   },
   "outputs": [
    {
     "name": "stdout",
     "output_type": "stream",
     "text": [
      "MSE: 0.16145, R^2: 0.35421\n"
     ]
    },
    {
     "data": {
      "text/html": [
       "<div>\n",
       "<table border=\"1\" class=\"dataframe\">\n",
       "  <thead>\n",
       "    <tr style=\"text-align: right;\">\n",
       "      <th></th>\n",
       "      <th>type</th>\n",
       "      <th>feature_importance</th>\n",
       "    </tr>\n",
       "  </thead>\n",
       "  <tbody>\n",
       "    <tr>\n",
       "      <th>3</th>\n",
       "      <td>portfolioaccounting</td>\n",
       "      <td>0.116341</td>\n",
       "    </tr>\n",
       "    <tr>\n",
       "      <th>7</th>\n",
       "      <td>socialmedia</td>\n",
       "      <td>0.095499</td>\n",
       "    </tr>\n",
       "    <tr>\n",
       "      <th>4</th>\n",
       "      <td>financialplanning</td>\n",
       "      <td>0.094427</td>\n",
       "    </tr>\n",
       "    <tr>\n",
       "      <th>10</th>\n",
       "      <td>digitalfinancialrecords</td>\n",
       "      <td>0.086832</td>\n",
       "    </tr>\n",
       "    <tr>\n",
       "      <th>6</th>\n",
       "      <td>clientportal</td>\n",
       "      <td>0.084814</td>\n",
       "    </tr>\n",
       "    <tr>\n",
       "      <th>8</th>\n",
       "      <td>email</td>\n",
       "      <td>0.084337</td>\n",
       "    </tr>\n",
       "    <tr>\n",
       "      <th>9</th>\n",
       "      <td>digitalcompliancemonitoring</td>\n",
       "      <td>0.082278</td>\n",
       "    </tr>\n",
       "    <tr>\n",
       "      <th>1</th>\n",
       "      <td>accounting</td>\n",
       "      <td>0.074157</td>\n",
       "    </tr>\n",
       "    <tr>\n",
       "      <th>2</th>\n",
       "      <td>portfoliomanagement</td>\n",
       "      <td>0.069885</td>\n",
       "    </tr>\n",
       "    <tr>\n",
       "      <th>5</th>\n",
       "      <td>firmwebsite</td>\n",
       "      <td>0.069824</td>\n",
       "    </tr>\n",
       "    <tr>\n",
       "      <th>0</th>\n",
       "      <td>crm</td>\n",
       "      <td>0.060489</td>\n",
       "    </tr>\n",
       "    <tr>\n",
       "      <th>12</th>\n",
       "      <td>riskassessmentsoftware</td>\n",
       "      <td>0.059775</td>\n",
       "    </tr>\n",
       "    <tr>\n",
       "      <th>11</th>\n",
       "      <td>robotechnology</td>\n",
       "      <td>0.021341</td>\n",
       "    </tr>\n",
       "  </tbody>\n",
       "</table>\n",
       "</div>"
      ],
      "text/plain": [
       "                           type  feature_importance\n",
       "3           portfolioaccounting            0.116341\n",
       "7                   socialmedia            0.095499\n",
       "4             financialplanning            0.094427\n",
       "10      digitalfinancialrecords            0.086832\n",
       "6                  clientportal            0.084814\n",
       "8                         email            0.084337\n",
       "9   digitalcompliancemonitoring            0.082278\n",
       "1                    accounting            0.074157\n",
       "2           portfoliomanagement            0.069885\n",
       "5                   firmwebsite            0.069824\n",
       "0                           crm            0.060489\n",
       "12       riskassessmentsoftware            0.059775\n",
       "11               robotechnology            0.021341"
      ]
     },
     "execution_count": 98,
     "metadata": {},
     "output_type": "execute_result"
    }
   ],
   "source": [
    "X = temp[tech_fts].values.reshape(-1,N)\n",
    "y = temp['NetRevenue(51-75)'].values.reshape(-1,1)\n",
    "forest = RandomForestRegressor(n_estimators=100,criterion='mse',n_jobs=-1,oob_score=True)\n",
    "forest.fit(X,y.reshape(-1))\n",
    "y_pred = forest.predict(X)\n",
    "print('MSE: %.5f, R^2: %.5f' % (mean_squared_error(y,y_pred),r2_score(y,y_pred)))\n",
    "\n",
    "fts = forest.feature_importances_\n",
    "cols = list(df1.iloc[:,2:N].columns)\n",
    "ft_df = pd.DataFrame([],columns=['type','feature_importance'])\n",
    "ft_df['type'] = tech_fts\n",
    "ft_df['feature_importance'] = fts\n",
    "ft_df.sort_values('feature_importance',ascending=False)"
   ]
  },
  {
   "cell_type": "code",
   "execution_count": 99,
   "metadata": {
    "collapsed": false
   },
   "outputs": [
    {
     "name": "stdout",
     "output_type": "stream",
     "text": [
      "MSE: 0.16158, R^2: 0.35369\n"
     ]
    },
    {
     "data": {
      "text/html": [
       "<div>\n",
       "<table border=\"1\" class=\"dataframe\">\n",
       "  <thead>\n",
       "    <tr style=\"text-align: right;\">\n",
       "      <th></th>\n",
       "      <th>type</th>\n",
       "      <th>feature_importance</th>\n",
       "    </tr>\n",
       "  </thead>\n",
       "  <tbody>\n",
       "    <tr>\n",
       "      <th>3</th>\n",
       "      <td>portfolioaccounting</td>\n",
       "      <td>0.116719</td>\n",
       "    </tr>\n",
       "    <tr>\n",
       "      <th>10</th>\n",
       "      <td>digitalfinancialrecords</td>\n",
       "      <td>0.095101</td>\n",
       "    </tr>\n",
       "    <tr>\n",
       "      <th>4</th>\n",
       "      <td>financialplanning</td>\n",
       "      <td>0.094755</td>\n",
       "    </tr>\n",
       "    <tr>\n",
       "      <th>7</th>\n",
       "      <td>socialmedia</td>\n",
       "      <td>0.093523</td>\n",
       "    </tr>\n",
       "    <tr>\n",
       "      <th>8</th>\n",
       "      <td>email</td>\n",
       "      <td>0.082947</td>\n",
       "    </tr>\n",
       "    <tr>\n",
       "      <th>6</th>\n",
       "      <td>clientportal</td>\n",
       "      <td>0.082229</td>\n",
       "    </tr>\n",
       "    <tr>\n",
       "      <th>9</th>\n",
       "      <td>digitalcompliancemonitoring</td>\n",
       "      <td>0.082065</td>\n",
       "    </tr>\n",
       "    <tr>\n",
       "      <th>1</th>\n",
       "      <td>accounting</td>\n",
       "      <td>0.074505</td>\n",
       "    </tr>\n",
       "    <tr>\n",
       "      <th>5</th>\n",
       "      <td>firmwebsite</td>\n",
       "      <td>0.066683</td>\n",
       "    </tr>\n",
       "    <tr>\n",
       "      <th>12</th>\n",
       "      <td>riskassessmentsoftware</td>\n",
       "      <td>0.064692</td>\n",
       "    </tr>\n",
       "    <tr>\n",
       "      <th>2</th>\n",
       "      <td>portfoliomanagement</td>\n",
       "      <td>0.064663</td>\n",
       "    </tr>\n",
       "    <tr>\n",
       "      <th>0</th>\n",
       "      <td>crm</td>\n",
       "      <td>0.060187</td>\n",
       "    </tr>\n",
       "    <tr>\n",
       "      <th>11</th>\n",
       "      <td>robotechnology</td>\n",
       "      <td>0.021931</td>\n",
       "    </tr>\n",
       "  </tbody>\n",
       "</table>\n",
       "</div>"
      ],
      "text/plain": [
       "                           type  feature_importance\n",
       "3           portfolioaccounting            0.116719\n",
       "10      digitalfinancialrecords            0.095101\n",
       "4             financialplanning            0.094755\n",
       "7                   socialmedia            0.093523\n",
       "8                         email            0.082947\n",
       "6                  clientportal            0.082229\n",
       "9   digitalcompliancemonitoring            0.082065\n",
       "1                    accounting            0.074505\n",
       "5                   firmwebsite            0.066683\n",
       "12       riskassessmentsoftware            0.064692\n",
       "2           portfoliomanagement            0.064663\n",
       "0                           crm            0.060187\n",
       "11               robotechnology            0.021931"
      ]
     },
     "execution_count": 99,
     "metadata": {},
     "output_type": "execute_result"
    }
   ],
   "source": [
    "X = temp[tech_fts].values.reshape(-1,N)\n",
    "y = temp['NetRevenue(>75)'].values.reshape(-1,1)\n",
    "forest = RandomForestRegressor(n_estimators=100,criterion='mse',n_jobs=-1,oob_score=True)\n",
    "forest.fit(X,y.reshape(-1))\n",
    "y_pred = forest.predict(X)\n",
    "print('MSE: %.5f, R^2: %.5f' % (mean_squared_error(y,y_pred),r2_score(y,y_pred)))\n",
    "\n",
    "fts = forest.feature_importances_\n",
    "cols = list(df1.iloc[:,2:N].columns)\n",
    "ft_df = pd.DataFrame([],columns=['type','feature_importance'])\n",
    "ft_df['type'] = tech_fts\n",
    "ft_df['feature_importance'] = fts\n",
    "ft_df.sort_values('feature_importance',ascending=False)"
   ]
  },
  {
   "cell_type": "code",
   "execution_count": 87,
   "metadata": {
    "collapsed": false
   },
   "outputs": [
    {
     "data": {
      "text/plain": [
       "crm                                   635\n",
       "accounting                            567\n",
       "portfoliomanagement                   601\n",
       "portfolioaccounting                   389\n",
       "financialplanning                     582\n",
       "firmwebsite                           629\n",
       "clientportal                          598\n",
       "socialmedia                           434\n",
       "email                                 579\n",
       "digitalcompliancemonitoring           445\n",
       "digitalfinancialrecords               536\n",
       "robotechnology                         29\n",
       "riskassessmentsoftware                150\n",
       "NetRevenue                     1130332412\n",
       "OperatingExpenses               640728314\n",
       "Ebitda                          520629075\n",
       "Eboc                            723976208\n",
       "NetRevenue(<=25)                      188\n",
       "NetRevenue(26-50)                     187\n",
       "NetRevenue(51-75)                     187\n",
       "NetRevenue(>75)                       188\n",
       "OpExpenses(<=25)                      188\n",
       "OpExpenses(26-50)                     188\n",
       "OpExpenses(51-75)                     186\n",
       "OpExpenses(>75)                       188\n",
       "Ebitda(<=25)                          188\n",
       "Ebitda(26-50)                         187\n",
       "Ebitda(51-75)                         189\n",
       "Ebitda(>75)                           186\n",
       "Eboc(<=25)                            188\n",
       "Eboc(26-50)                           187\n",
       "Eboc(51-75)                           187\n",
       "Eboc(>75)                             188\n",
       "dtype: int64"
      ]
     },
     "execution_count": 87,
     "metadata": {},
     "output_type": "execute_result"
    }
   ],
   "source": [
    "tech_df.sum().astype('int')"
   ]
  },
  {
   "cell_type": "code",
   "execution_count": 90,
   "metadata": {
    "collapsed": false
   },
   "outputs": [
    {
     "name": "stdout",
     "output_type": "stream",
     "text": [
      "MSE: 0.09641, R^2: 0.48670\n"
     ]
    },
    {
     "data": {
      "text/html": [
       "<div>\n",
       "<table border=\"1\" class=\"dataframe\">\n",
       "  <thead>\n",
       "    <tr style=\"text-align: right;\">\n",
       "      <th></th>\n",
       "      <th>type</th>\n",
       "      <th>feature_importance</th>\n",
       "    </tr>\n",
       "  </thead>\n",
       "  <tbody>\n",
       "    <tr>\n",
       "      <th>5</th>\n",
       "      <td>firmwebsite</td>\n",
       "      <td>0.162644</td>\n",
       "    </tr>\n",
       "    <tr>\n",
       "      <th>1</th>\n",
       "      <td>accounting</td>\n",
       "      <td>0.088079</td>\n",
       "    </tr>\n",
       "    <tr>\n",
       "      <th>0</th>\n",
       "      <td>crm</td>\n",
       "      <td>0.084154</td>\n",
       "    </tr>\n",
       "    <tr>\n",
       "      <th>9</th>\n",
       "      <td>digitalcompliancemonitoring</td>\n",
       "      <td>0.078272</td>\n",
       "    </tr>\n",
       "    <tr>\n",
       "      <th>3</th>\n",
       "      <td>portfolioaccounting</td>\n",
       "      <td>0.078150</td>\n",
       "    </tr>\n",
       "    <tr>\n",
       "      <th>10</th>\n",
       "      <td>digitalfinancialrecords</td>\n",
       "      <td>0.077759</td>\n",
       "    </tr>\n",
       "    <tr>\n",
       "      <th>6</th>\n",
       "      <td>clientportal</td>\n",
       "      <td>0.075423</td>\n",
       "    </tr>\n",
       "    <tr>\n",
       "      <th>12</th>\n",
       "      <td>riskassessmentsoftware</td>\n",
       "      <td>0.073811</td>\n",
       "    </tr>\n",
       "    <tr>\n",
       "      <th>7</th>\n",
       "      <td>socialmedia</td>\n",
       "      <td>0.071457</td>\n",
       "    </tr>\n",
       "    <tr>\n",
       "      <th>8</th>\n",
       "      <td>email</td>\n",
       "      <td>0.067600</td>\n",
       "    </tr>\n",
       "    <tr>\n",
       "      <th>4</th>\n",
       "      <td>financialplanning</td>\n",
       "      <td>0.059617</td>\n",
       "    </tr>\n",
       "    <tr>\n",
       "      <th>2</th>\n",
       "      <td>portfoliomanagement</td>\n",
       "      <td>0.058962</td>\n",
       "    </tr>\n",
       "    <tr>\n",
       "      <th>11</th>\n",
       "      <td>robotechnology</td>\n",
       "      <td>0.024071</td>\n",
       "    </tr>\n",
       "  </tbody>\n",
       "</table>\n",
       "</div>"
      ],
      "text/plain": [
       "                           type  feature_importance\n",
       "5                   firmwebsite            0.162644\n",
       "1                    accounting            0.088079\n",
       "0                           crm            0.084154\n",
       "9   digitalcompliancemonitoring            0.078272\n",
       "3           portfolioaccounting            0.078150\n",
       "10      digitalfinancialrecords            0.077759\n",
       "6                  clientportal            0.075423\n",
       "12       riskassessmentsoftware            0.073811\n",
       "7                   socialmedia            0.071457\n",
       "8                         email            0.067600\n",
       "4             financialplanning            0.059617\n",
       "2           portfoliomanagement            0.058962\n",
       "11               robotechnology            0.024071"
      ]
     },
     "execution_count": 90,
     "metadata": {},
     "output_type": "execute_result"
    }
   ],
   "source": [
    "X = tech_df[tech_fts].values.reshape(-1,N)\n",
    "y = tech_df['NetRevenue(<=25)'].values.reshape(-1,1)\n",
    "forest = RandomForestRegressor(n_estimators=100,criterion='mse',n_jobs=-1,oob_score=True)\n",
    "forest.fit(X,y.reshape(-1))\n",
    "y_pred = forest.predict(X)\n",
    "print('MSE: %.5f, R^2: %.5f' % (mean_squared_error(y,y_pred),r2_score(y,y_pred)))\n",
    "\n",
    "fts = forest.feature_importances_\n",
    "cols = list(df1.iloc[:,2:N].columns)\n",
    "ft_df = pd.DataFrame([],columns=['type','feature_importance'])\n",
    "ft_df['type'] = tech_fts\n",
    "ft_df['feature_importance'] = fts\n",
    "ft_df.sort_values('feature_importance',ascending=False)"
   ]
  },
  {
   "cell_type": "code",
   "execution_count": null,
   "metadata": {
    "collapsed": true
   },
   "outputs": [],
   "source": []
  }
 ],
 "metadata": {
  "anaconda-cloud": {},
  "kernelspec": {
   "display_name": "Python [Root]",
   "language": "python",
   "name": "Python [Root]"
  },
  "language_info": {
   "codemirror_mode": {
    "name": "ipython",
    "version": 2
   },
   "file_extension": ".py",
   "mimetype": "text/x-python",
   "name": "python",
   "nbconvert_exporter": "python",
   "pygments_lexer": "ipython2",
   "version": "2.7.12"
  }
 },
 "nbformat": 4,
 "nbformat_minor": 0
}
