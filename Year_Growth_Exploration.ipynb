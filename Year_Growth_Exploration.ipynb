{
 "cells": [
  {
   "cell_type": "code",
   "execution_count": 2,
   "metadata": {
    "collapsed": false
   },
   "outputs": [
    {
     "name": "stdout",
     "output_type": "stream",
     "text": [
      "height has been deprecated.\n",
      "\n"
     ]
    }
   ],
   "source": [
    "import numpy as np\n",
    "import matplotlib.pyplot as plt\n",
    "import pandas as pd\n",
    "import seaborn as sns\n",
    "from sklearn.naive_bayes import GaussianNB\n",
    "pd.set_option('display.height', 1000)\n",
    "pd.set_option('display.max_rows', 500)\n",
    "pd.set_option('display.max_columns', 500)\n",
    "pd.set_option('display.width', 1000)\n",
    "%matplotlib inline\n",
    "sns.set(style='whitegrid',context='notebook')\n",
    "plt.rcParams['figure.figsize'] = (5, 5)\n"
   ]
  },
  {
   "cell_type": "code",
   "execution_count": 3,
   "metadata": {
    "collapsed": true
   },
   "outputs": [],
   "source": [
    "far_df = pd.read_csv('./datasets/firmannualreports.csv',index_col=0)\n",
    "ptu_df = pd.read_csv('./datasets/processtechnologyuses.csv',index_col=0)\n",
    "advisor_df = pd.read_csv('./datasets/advisor.csv',index_col=0)\n",
    "client_df = pd.read_csv('./datasets/client.csv',index_col=0)\n",
    "financial_df = pd.read_csv('./datasets/financial.csv',index_col=0)\n",
    "frb_df = pd.read_csv('./datasets/financialrevenuebreakdown.csv',index_col=0)\n",
    "foe_df = pd.read_csv('./datasets/financialoperatingexpenses.csv',index_col=0)\n",
    "fs_df = pd.read_csv('./datasets/firmsection.csv',index_col=0)\n",
    "owner_df = pd.read_csv('./datasets/owner.csv',index_col=0)\n",
    "process_df = pd.read_csv('./datasets/process.csv',index_col=0)\n",
    "rev_df = pd.read_csv('./datasets/revenue.csv',index_col=0)\n",
    "results_df = pd.read_csv('./datasets/firmanalyticsresults.csv',index_col=0)\n",
    "tech_df = pd.read_csv('./datasets/tech_rev_opex_ebitda_eboc.csv',index_col=0)"
   ]
  },
  {
   "cell_type": "code",
   "execution_count": 4,
   "metadata": {
    "collapsed": true
   },
   "outputs": [],
   "source": [
    "df = far_df.merge(fs_df,how='inner',left_on='firmsectionid',right_index=True)\n",
    "df = df.merge(client_df,how='inner',left_on='clientid',right_index=True)\n",
    "df = df.merge(rev_df,how='inner',left_on='revenueid',right_index=True)\n",
    "df = df.merge(process_df.astype('int'),how='inner',left_on='processid',right_index=True)\n",
    "df = df.merge(ptu_df.astype('int'),how='inner',left_on='processtechnologyuseid',right_index=True)\n",
    "df = df.merge(financial_df,how='inner',left_on='financialsid',right_index=True)\n",
    "df = df.merge(advisor_df,how='inner',left_index=True,right_on='firmannualreportid')\n",
    "df = df.merge(owner_df.astype('float'),how='inner',left_index=True,right_on='firmannualreportid')\n",
    "df = df.merge(frb_df,how='inner',left_on='RevenueBreakdownId',right_index=True)\n",
    "df = df.merge(foe_df,how='inner',left_on='OperatingExpensesId',right_index=True)\n",
    "df = df.merge(results_df,how='inner',left_on='firmanalyticsresultid',right_index=True)"
   ]
  },
  {
   "cell_type": "code",
   "execution_count": 5,
   "metadata": {
    "collapsed": false
   },
   "outputs": [],
   "source": [
    "dict1 = {}\n",
    "for i,row in far_df.iterrows():\n",
    "    firmid = row['firmid']\n",
    "    year = row['year']\n",
    "    if firmid not in dict1:\n",
    "        dict1[firmid] = []\n",
    "        dict1[firmid].append(year)\n",
    "    else:\n",
    "        dict1[firmid].append(year)"
   ]
  },
  {
   "cell_type": "code",
   "execution_count": 6,
   "metadata": {
    "collapsed": false
   },
   "outputs": [],
   "source": [
    "dict2 = {}\n",
    "dict4 = {}\n",
    "for key,value in dict1.iteritems():\n",
    "    N = len(value)\n",
    "    if N > 1:\n",
    "        dict2[key] = sorted(value)\n",
    "        dict4[key] = sorted(value)"
   ]
  },
  {
   "cell_type": "code",
   "execution_count": 7,
   "metadata": {
    "collapsed": false
   },
   "outputs": [],
   "source": [
    "dict3 = {}\n",
    "for key,value in dict2.iteritems():\n",
    "    N = len(value)\n",
    "    for i in range(N-1):\n",
    "        if value[i] == (value[i+1]-1):\n",
    "            pass\n",
    "        else:\n",
    "            dict3[key] = value\n",
    "            break       "
   ]
  },
  {
   "cell_type": "code",
   "execution_count": 10,
   "metadata": {
    "collapsed": false
   },
   "outputs": [
    {
     "name": "stdout",
     "output_type": "stream",
     "text": [
      "Number of firms: 568\n",
      "Number of firms with more than 2: 153\n",
      "Number of firms with that do not have a sequential year: 29\n",
      "Total number of firms that satisfy sequential patterns and more than 2: 124\n"
     ]
    }
   ],
   "source": [
    "print 'Number of firms:', len(dict1)\n",
    "print 'Number of firms with more than 2:',len(dict2)\n",
    "print 'Number of firms with that do not have a sequential year:',len(dict3)\n",
    "print 'Total number of firms that satisfy sequential patterns and more than 2:',153-29"
   ]
  },
  {
   "cell_type": "code",
   "execution_count": 14,
   "metadata": {
    "collapsed": false
   },
   "outputs": [
    {
     "name": "stdout",
     "output_type": "stream",
     "text": [
      "The firms that do not have sequential patterns\n"
     ]
    },
    {
     "data": {
      "text/plain": [
       "{206.0: [2014.0, 2016.0],\n",
       " 211.0: [2014.0, 2016.0, 2017.0],\n",
       " 357.0: [2015.0, 2017.0],\n",
       " 361.0: [2012.0, 2013.0, 2014.0, 2016.0, 2017.0],\n",
       " 364.0: [2012.0, 2014.0, 2016.0, 2017.0],\n",
       " 592.0: [2014.0, 2017.0],\n",
       " 600.0: [2014.0, 2015.0, 2017.0],\n",
       " 609.0: [2014.0, 2016.0, 2017.0],\n",
       " 613.0: [2014.0, 2016.0],\n",
       " 623.0: [2014.0, 2016.0],\n",
       " 629.0: [2014.0, 2016.0],\n",
       " 638.0: [2014.0, 2016.0],\n",
       " 642.0: [2014.0, 2016.0, 2017.0],\n",
       " 644.0: [2014.0, 2016.0],\n",
       " 645.0: [2014.0, 2016.0, 2017.0],\n",
       " 647.0: [2014.0, 2015.0, 2017.0],\n",
       " 653.0: [2014.0, 2015.0, 2017.0],\n",
       " 654.0: [2014.0, 2017.0],\n",
       " 656.0: [2014.0, 2016.0],\n",
       " 659.0: [2014.0, 2016.0, 2017.0],\n",
       " 660.0: [2014.0, 2016.0],\n",
       " 669.0: [2014.0, 2016.0],\n",
       " 672.0: [2014.0, 2016.0, 2017.0],\n",
       " 678.0: [2014.0, 2016.0, 2017.0],\n",
       " 693.0: [2012.0, 2015.0, 2016.0],\n",
       " 699.0: [2015.0, 2017.0],\n",
       " 711.0: [2015.0, 2017.0],\n",
       " 720.0: [2012.0, 2014.0, 2015.0, 2016.0],\n",
       " 750.0: [2012.0, 2016.0]}"
      ]
     },
     "execution_count": 14,
     "metadata": {},
     "output_type": "execute_result"
    }
   ],
   "source": [
    "print 'The firms that do not have sequential patterns'\n",
    "dict3"
   ]
  },
  {
   "cell_type": "code",
   "execution_count": 12,
   "metadata": {
    "collapsed": false
   },
   "outputs": [],
   "source": [
    "for key,value in dict2.iteritems():\n",
    "    N = len(value)\n",
    "    for i in range(N-1):\n",
    "        if value[i] == (value[i+1]-1):\n",
    "            pass\n",
    "        else:\n",
    "            del(dict4[key])\n",
    "            break"
   ]
  },
  {
   "cell_type": "code",
   "execution_count": 15,
   "metadata": {
    "collapsed": false
   },
   "outputs": [
    {
     "name": "stdout",
     "output_type": "stream",
     "text": [
      "The dictionary that contains those that follow the pattern\n"
     ]
    },
    {
     "data": {
      "text/plain": [
       "{203.0: [2014.0, 2015.0, 2016.0],\n",
       " 205.0: [2014.0, 2015.0, 2016.0],\n",
       " 207.0: [2014.0, 2015.0, 2016.0],\n",
       " 208.0: [2014.0, 2015.0],\n",
       " 209.0: [2014.0, 2015.0, 2016.0],\n",
       " 210.0: [2014.0, 2015.0, 2016.0],\n",
       " 219.0: [2013.0, 2014.0, 2015.0, 2016.0],\n",
       " 234.0: [2014.0, 2015.0],\n",
       " 238.0: [2014.0, 2015.0],\n",
       " 255.0: [2014.0, 2015.0],\n",
       " 259.0: [2014.0, 2015.0],\n",
       " 261.0: [2014.0, 2015.0],\n",
       " 265.0: [2014.0, 2015.0],\n",
       " 281.0: [2015.0, 2016.0],\n",
       " 292.0: [2015.0, 2016.0, 2017.0],\n",
       " 294.0: [2015.0, 2016.0],\n",
       " 298.0: [2015.0, 2016.0],\n",
       " 301.0: [2015.0, 2016.0],\n",
       " 319.0: [2015.0, 2016.0, 2017.0],\n",
       " 325.0: [2015.0, 2016.0],\n",
       " 331.0: [2015.0, 2016.0, 2017.0],\n",
       " 332.0: [2016.0, 2017.0],\n",
       " 334.0: [2014.0, 2015.0],\n",
       " 336.0: [2015.0, 2016.0],\n",
       " 341.0: [2015.0, 2016.0],\n",
       " 343.0: [2015.0, 2016.0],\n",
       " 344.0: [2015.0, 2016.0],\n",
       " 345.0: [2015.0, 2016.0],\n",
       " 346.0: [2015.0, 2016.0],\n",
       " 350.0: [2015.0, 2016.0],\n",
       " 351.0: [2015.0, 2016.0],\n",
       " 356.0: [2015.0, 2016.0],\n",
       " 371.0: [2016.0, 2017.0],\n",
       " 380.0: [2016.0, 2017.0],\n",
       " 398.0: [2016.0, 2017.0],\n",
       " 466.0: [2016.0, 2017.0],\n",
       " 470.0: [2016.0, 2017.0],\n",
       " 471.0: [2009.0,\n",
       "  2010.0,\n",
       "  2011.0,\n",
       "  2012.0,\n",
       "  2013.0,\n",
       "  2014.0,\n",
       "  2015.0,\n",
       "  2016.0,\n",
       "  2017.0],\n",
       " 472.0: [2015.0, 2016.0, 2017.0],\n",
       " 482.0: [2016.0, 2017.0],\n",
       " 487.0: [2016.0, 2017.0],\n",
       " 494.0: [2016.0, 2017.0],\n",
       " 496.0: [2016.0, 2017.0],\n",
       " 507.0: [2016.0, 2017.0],\n",
       " 511.0: [2016.0, 2017.0],\n",
       " 512.0: [2016.0, 2017.0],\n",
       " 532.0: [2016.0, 2017.0],\n",
       " 533.0: [2016.0, 2017.0],\n",
       " 540.0: [2016.0, 2017.0],\n",
       " 548.0: [2016.0, 2017.0],\n",
       " 556.0: [2016.0, 2017.0],\n",
       " 559.0: [2016.0, 2017.0],\n",
       " 563.0: [2016.0, 2017.0],\n",
       " 584.0: [2017.0, 2018.0],\n",
       " 606.0: [2014.0, 2015.0],\n",
       " 616.0: [2014.0, 2015.0],\n",
       " 621.0: [2014.0, 2015.0],\n",
       " 627.0: [2014.0, 2015.0, 2016.0],\n",
       " 632.0: [2014.0, 2015.0],\n",
       " 633.0: [2014.0, 2015.0, 2016.0, 2017.0],\n",
       " 637.0: [2014.0, 2015.0, 2016.0],\n",
       " 639.0: [2014.0, 2015.0],\n",
       " 655.0: [2014.0, 2015.0, 2016.0],\n",
       " 657.0: [2014.0, 2015.0],\n",
       " 658.0: [2014.0, 2015.0],\n",
       " 662.0: [2014.0, 2015.0, 2016.0],\n",
       " 665.0: [2014.0, 2015.0],\n",
       " 674.0: [2014.0, 2015.0],\n",
       " 675.0: [2014.0, 2015.0],\n",
       " 677.0: [2014.0, 2015.0],\n",
       " 679.0: [2014.0, 2015.0, 2016.0, 2017.0],\n",
       " 680.0: [2015.0, 2016.0, 2017.0],\n",
       " 683.0: [2015.0, 2016.0],\n",
       " 684.0: [2015.0, 2016.0],\n",
       " 685.0: [2015.0, 2016.0],\n",
       " 686.0: [2016.0, 2017.0],\n",
       " 691.0: [2014.0, 2015.0, 2016.0, 2017.0, 2018.0],\n",
       " 692.0: [2015.0, 2016.0],\n",
       " 694.0: [2015.0, 2016.0, 2017.0],\n",
       " 695.0: [2015.0, 2016.0],\n",
       " 697.0: [2015.0, 2016.0],\n",
       " 703.0: [2015.0, 2016.0, 2017.0],\n",
       " 704.0: [2016.0, 2017.0],\n",
       " 706.0: [2011.0, 2012.0, 2013.0, 2014.0, 2015.0, 2016.0, 2017.0],\n",
       " 716.0: [2015.0, 2016.0, 2017.0],\n",
       " 718.0: [2016.0, 2017.0, 2018.0],\n",
       " 719.0: [2016.0, 2017.0],\n",
       " 722.0: [2015.0, 2016.0, 2017.0],\n",
       " 723.0: [2016.0, 2017.0],\n",
       " 725.0: [2016.0, 2017.0],\n",
       " 726.0: [2016.0, 2017.0],\n",
       " 729.0: [2015.0, 2016.0, 2017.0],\n",
       " 730.0: [2016.0, 2017.0],\n",
       " 731.0: [2016.0, 2017.0],\n",
       " 741.0: [2016.0, 2017.0],\n",
       " 743.0: [2016.0, 2017.0],\n",
       " 744.0: [2016.0, 2017.0],\n",
       " 745.0: [2016.0, 2017.0],\n",
       " 746.0: [2016.0, 2017.0],\n",
       " 747.0: [2016.0, 2017.0],\n",
       " 749.0: [2016.0, 2017.0],\n",
       " 752.0: [2016.0, 2017.0],\n",
       " 756.0: [2016.0, 2017.0],\n",
       " 758.0: [2016.0, 2017.0],\n",
       " 761.0: [2016.0, 2017.0],\n",
       " 762.0: [2016.0, 2017.0],\n",
       " 766.0: [2016.0, 2017.0],\n",
       " 768.0: [2016.0, 2017.0],\n",
       " 771.0: [2016.0, 2017.0, 2018.0],\n",
       " 778.0: [2016.0, 2017.0],\n",
       " 779.0: [2015.0, 2016.0],\n",
       " 784.0: [2016.0, 2017.0],\n",
       " 790.0: [2016.0, 2017.0],\n",
       " 794.0: [2016.0, 2017.0],\n",
       " 800.0: [2016.0, 2017.0],\n",
       " 802.0: [2016.0, 2017.0],\n",
       " 803.0: [2016.0, 2017.0],\n",
       " 804.0: [2016.0, 2017.0],\n",
       " 805.0: [2016.0, 2017.0],\n",
       " 807.0: [2016.0, 2017.0],\n",
       " 808.0: [2016.0, 2017.0],\n",
       " 809.0: [2016.0, 2017.0],\n",
       " 810.0: [2016.0, 2017.0],\n",
       " 812.0: [2016.0, 2017.0]}"
      ]
     },
     "execution_count": 15,
     "metadata": {},
     "output_type": "execute_result"
    }
   ],
   "source": [
    "print 'The dictionary that contains those that follow the pattern'\n",
    "dict4"
   ]
  },
  {
   "cell_type": "code",
   "execution_count": 13,
   "metadata": {
    "collapsed": false
   },
   "outputs": [],
   "source": [
    "dict5 = {}\n",
    "for key,value in dict4.iteritems():\n",
    "    N = len(value)\n",
    "    dict5[key] = N"
   ]
  },
  {
   "cell_type": "code",
   "execution_count": 18,
   "metadata": {
    "collapsed": false
   },
   "outputs": [
    {
     "name": "stdout",
     "output_type": "stream",
     "text": [
      "mean number of reports for the firms with more than two: 2.33870967742\n"
     ]
    }
   ],
   "source": [
    "print 'mean number of reports for the firms with more than two:', np.mean(dict5.values())"
   ]
  },
  {
   "cell_type": "code",
   "execution_count": 28,
   "metadata": {
    "collapsed": false
   },
   "outputs": [],
   "source": [
    "firmid = sorted(dict4.keys())\n",
    "ids = df['firmid'].isin(firmid)\n",
    "id_df = df.loc[ids]"
   ]
  },
  {
   "cell_type": "code",
   "execution_count": 29,
   "metadata": {
    "collapsed": false
   },
   "outputs": [],
   "source": [
    "id_df.to_csv('./datasets/sequentialFirmIds.csv')"
   ]
  },
  {
   "cell_type": "code",
   "execution_count": null,
   "metadata": {
    "collapsed": true
   },
   "outputs": [],
   "source": []
  }
 ],
 "metadata": {
  "kernelspec": {
   "display_name": "Python [Root]",
   "language": "python",
   "name": "Python [Root]"
  },
  "language_info": {
   "codemirror_mode": {
    "name": "ipython",
    "version": 2
   },
   "file_extension": ".py",
   "mimetype": "text/x-python",
   "name": "python",
   "nbconvert_exporter": "python",
   "pygments_lexer": "ipython2",
   "version": "2.7.12"
  }
 },
 "nbformat": 4,
 "nbformat_minor": 0
}
